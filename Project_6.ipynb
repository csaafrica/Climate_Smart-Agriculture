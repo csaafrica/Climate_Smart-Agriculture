{
 "cells": [
  {
   "cell_type": "markdown",
   "id": "457a1166-9a0e-4927-bdc9-8f8deb682a94",
   "metadata": {},
   "source": [
    "## Groupe_11\n",
    "### Project 6: Climate-Smart Agriculture Recommender \n",
    "\n",
    "**Problem Statement**  \n",
    "Farmers need guidance on crop selection as climate patterns shift. Build a recommendation system for climate-appropriate crops.\n",
    "\n",
    "### Data Sources:\n",
    "\n",
    "- FAO Global Agro-Ecological Zones: Data portal Climate.gov\n",
    "- historical weather data: NOAA data portal\n",
    "- Market price data from regional commodity exchanges\n",
    "\n",
    "### Deliverables:\n",
    "\n",
    "1. Crop suitability maps under current and projected climate \n",
    "2. Recommendation engine for crop selection\n",
    "3. Profit optimization model including climate risk\n",
    "4. Farmer decision-support tool prototype Technical report \n",
    "\n",
    "### Technical Requirements:\n",
    "\n",
    "- Implement collaborative filtering for recommendations\n",
    "- Use Random Forest for suitability classification\n",
    "- Monte Carlo simulation for risk analysis\n",
    "- Create interactive Streamlit app\n"
   ]
  },
  {
   "cell_type": "markdown",
   "id": "bc2f4b5a-f30e-45c9-932d-8f6f3e1497e6",
   "metadata": {},
   "source": [
    "## 1- Introduction"
   ]
  },
  {
   "cell_type": "markdown",
   "id": "7d175956-1aff-4c37-9174-f7089b05145a",
   "metadata": {},
   "source": [
    "The present project aims to develop a recommender system that helps farmers make better decisions in the face of climate change. The system should suggest climate-smart agriculture (CSA) practices based on factors such as:\n",
    "- soil (type, pH, fertility, water retention, texture) \n",
    "- crop (type, crop types, planting/harvest times)\n",
    "- local weather patterns (Rain, Temperature, drought patterns, seasonal changes)\n",
    "- water availability (irrigation system)\n",
    "- farming goals (yield or sustainability)\n",
    "\n",
    "This tool will promote sustainable agriculture by recommending specific actions or technologies that:\n",
    "- increase productivity\n",
    "- help adapt to climate change\n",
    "- reduce greenhouse gas emissions"
   ]
  },
  {
   "cell_type": "code",
   "execution_count": 1,
   "id": "1f6f33b9-a6b6-4e32-9596-3bff33151f64",
   "metadata": {},
   "outputs": [],
   "source": [
    "# modules importation\n",
    "import os\n",
    "import requests\n",
    "import pandas as pd\n",
    "import matplotlib.pyplot as plt\n",
    "import seaborn as sns\n",
    "import numpy as np"
   ]
  },
  {
   "cell_type": "markdown",
   "id": "bba73093-9a36-420e-84b2-9b332042e2ec",
   "metadata": {},
   "source": [
    "## 2- Data collection"
   ]
  },
  {
   "cell_type": "code",
   "execution_count": 2,
   "id": "cacaf159-c028-4e3f-aecd-3d9749c01940",
   "metadata": {},
   "outputs": [],
   "source": [
    "# load data collected\n",
    "#Data collected on https://www.fao.org/faostat/en/#data\n",
    "crop_data_quantity = pd.read_csv(\"data/Crop_data_quantity.csv\")\n",
    "crop_data_USD = pd.read_csv(\"data/Crop_data_USD.csv\")\n",
    "temperature_change = pd.read_csv(\"data/temperature_change.csv\")\n",
    "\n",
    "# Data collected on https://open-meteo.com/en/docs/historical-weather-api?start_date=1970-01-01&latitude=-1.2833&longitude=36.8167&daily=temperature_2m_mean,temperature_2m_max,temperature_2m_min,rain_sum,weather_code&timezone=Africa%2FCairo&hourly=&end_date=1970-01-01\n",
    "meteo_data = pd.read_csv(\"data/meteo_data.csv\")"
   ]
  },
  {
   "cell_type": "markdown",
   "id": "6b3d70f5-bd8b-43a8-b17d-110736ce03d9",
   "metadata": {},
   "source": [
    "## 3- Data cleaning"
   ]
  },
  {
   "cell_type": "markdown",
   "id": "11c66e9b-6e34-40d6-9e33-ae6b6e78e86f",
   "metadata": {},
   "source": [
    "### 3-1 Cleaning crop_data_quatity"
   ]
  },
  {
   "cell_type": "code",
   "execution_count": 3,
   "id": "3e7776f5-f3a6-4efa-a88e-83a8edac790d",
   "metadata": {},
   "outputs": [
    {
     "data": {
      "text/html": [
       "<div>\n",
       "<style scoped>\n",
       "    .dataframe tbody tr th:only-of-type {\n",
       "        vertical-align: middle;\n",
       "    }\n",
       "\n",
       "    .dataframe tbody tr th {\n",
       "        vertical-align: top;\n",
       "    }\n",
       "\n",
       "    .dataframe thead th {\n",
       "        text-align: right;\n",
       "    }\n",
       "</style>\n",
       "<table border=\"1\" class=\"dataframe\">\n",
       "  <thead>\n",
       "    <tr style=\"text-align: right;\">\n",
       "      <th></th>\n",
       "      <th>Domain Code</th>\n",
       "      <th>Domain</th>\n",
       "      <th>Area Code (M49)</th>\n",
       "      <th>Area</th>\n",
       "      <th>Element Code</th>\n",
       "      <th>Element</th>\n",
       "      <th>Item Code (CPC)</th>\n",
       "      <th>Item</th>\n",
       "      <th>Year Code</th>\n",
       "      <th>Year</th>\n",
       "      <th>Unit</th>\n",
       "      <th>Value</th>\n",
       "      <th>Flag</th>\n",
       "      <th>Flag Description</th>\n",
       "      <th>Note</th>\n",
       "    </tr>\n",
       "  </thead>\n",
       "  <tbody>\n",
       "    <tr>\n",
       "      <th>0</th>\n",
       "      <td>QCL</td>\n",
       "      <td>Crops and livestock products</td>\n",
       "      <td>404</td>\n",
       "      <td>Kenya</td>\n",
       "      <td>5312</td>\n",
       "      <td>Area harvested</td>\n",
       "      <td>1701.0</td>\n",
       "      <td>Beans, dry</td>\n",
       "      <td>1961</td>\n",
       "      <td>1961</td>\n",
       "      <td>ha</td>\n",
       "      <td>115000.0</td>\n",
       "      <td>E</td>\n",
       "      <td>Estimated value</td>\n",
       "      <td>NaN</td>\n",
       "    </tr>\n",
       "    <tr>\n",
       "      <th>1</th>\n",
       "      <td>QCL</td>\n",
       "      <td>Crops and livestock products</td>\n",
       "      <td>404</td>\n",
       "      <td>Kenya</td>\n",
       "      <td>5412</td>\n",
       "      <td>Yield</td>\n",
       "      <td>1701.0</td>\n",
       "      <td>Beans, dry</td>\n",
       "      <td>1961</td>\n",
       "      <td>1961</td>\n",
       "      <td>kg/ha</td>\n",
       "      <td>478.3</td>\n",
       "      <td>E</td>\n",
       "      <td>Estimated value</td>\n",
       "      <td>NaN</td>\n",
       "    </tr>\n",
       "    <tr>\n",
       "      <th>2</th>\n",
       "      <td>QCL</td>\n",
       "      <td>Crops and livestock products</td>\n",
       "      <td>404</td>\n",
       "      <td>Kenya</td>\n",
       "      <td>5510</td>\n",
       "      <td>Production</td>\n",
       "      <td>1701.0</td>\n",
       "      <td>Beans, dry</td>\n",
       "      <td>1961</td>\n",
       "      <td>1961</td>\n",
       "      <td>t</td>\n",
       "      <td>55000.0</td>\n",
       "      <td>E</td>\n",
       "      <td>Estimated value</td>\n",
       "      <td>NaN</td>\n",
       "    </tr>\n",
       "  </tbody>\n",
       "</table>\n",
       "</div>"
      ],
      "text/plain": [
       "  Domain Code                        Domain  Area Code (M49)   Area  \\\n",
       "0         QCL  Crops and livestock products              404  Kenya   \n",
       "1         QCL  Crops and livestock products              404  Kenya   \n",
       "2         QCL  Crops and livestock products              404  Kenya   \n",
       "\n",
       "   Element Code         Element  Item Code (CPC)        Item  Year Code  Year  \\\n",
       "0          5312  Area harvested           1701.0  Beans, dry       1961  1961   \n",
       "1          5412           Yield           1701.0  Beans, dry       1961  1961   \n",
       "2          5510      Production           1701.0  Beans, dry       1961  1961   \n",
       "\n",
       "    Unit     Value Flag Flag Description Note  \n",
       "0     ha  115000.0    E  Estimated value  NaN  \n",
       "1  kg/ha     478.3    E  Estimated value  NaN  \n",
       "2      t   55000.0    E  Estimated value  NaN  "
      ]
     },
     "execution_count": 3,
     "metadata": {},
     "output_type": "execute_result"
    }
   ],
   "source": [
    "# Crop_data_quantity cleaning\n",
    "\n",
    "crop_data_quantity.head(3)"
   ]
  },
  {
   "cell_type": "code",
   "execution_count": 4,
   "id": "1a0dbe3d-1c70-4968-97cb-d6cc37bdd63f",
   "metadata": {},
   "outputs": [],
   "source": [
    "# Unnecessary column removal\n",
    "\n",
    "crop_data_quantity = crop_data_quantity.drop(columns=[\"Domain Code\",\"Area Code (M49)\",\"Area\", \"Domain\", \"Note\", \"Year Code\", \"Element Code\",\"Item Code (CPC)\", \"Flag\", \"Flag Description\"])"
   ]
  },
  {
   "cell_type": "code",
   "execution_count": 5,
   "id": "47567f30-5c25-4360-b746-dc46f2dd9c4a",
   "metadata": {},
   "outputs": [
    {
     "data": {
      "text/html": [
       "<div>\n",
       "<style scoped>\n",
       "    .dataframe tbody tr th:only-of-type {\n",
       "        vertical-align: middle;\n",
       "    }\n",
       "\n",
       "    .dataframe tbody tr th {\n",
       "        vertical-align: top;\n",
       "    }\n",
       "\n",
       "    .dataframe thead th {\n",
       "        text-align: right;\n",
       "    }\n",
       "</style>\n",
       "<table border=\"1\" class=\"dataframe\">\n",
       "  <thead>\n",
       "    <tr style=\"text-align: right;\">\n",
       "      <th></th>\n",
       "      <th>Element</th>\n",
       "      <th>Item</th>\n",
       "      <th>Year</th>\n",
       "      <th>Unit</th>\n",
       "      <th>Value</th>\n",
       "    </tr>\n",
       "  </thead>\n",
       "  <tbody>\n",
       "    <tr>\n",
       "      <th>0</th>\n",
       "      <td>Area harvested</td>\n",
       "      <td>Beans, dry</td>\n",
       "      <td>1961</td>\n",
       "      <td>ha</td>\n",
       "      <td>115000.0</td>\n",
       "    </tr>\n",
       "    <tr>\n",
       "      <th>1</th>\n",
       "      <td>Yield</td>\n",
       "      <td>Beans, dry</td>\n",
       "      <td>1961</td>\n",
       "      <td>kg/ha</td>\n",
       "      <td>478.3</td>\n",
       "    </tr>\n",
       "  </tbody>\n",
       "</table>\n",
       "</div>"
      ],
      "text/plain": [
       "          Element        Item  Year   Unit     Value\n",
       "0  Area harvested  Beans, dry  1961     ha  115000.0\n",
       "1           Yield  Beans, dry  1961  kg/ha     478.3"
      ]
     },
     "execution_count": 5,
     "metadata": {},
     "output_type": "execute_result"
    }
   ],
   "source": [
    "crop_data_quantity.head(2)"
   ]
  },
  {
   "cell_type": "code",
   "execution_count": 6,
   "id": "31cd715a-8f94-4b42-8ce7-4e01fb74fcbb",
   "metadata": {},
   "outputs": [],
   "source": [
    "#We are removing the Yiel lines besause we dont need it\n",
    "\n",
    "crop_data_quantity = crop_data_quantity[crop_data_quantity[\"Element\"].isin([\"Area harvested\",\"Production\"])]"
   ]
  },
  {
   "cell_type": "code",
   "execution_count": 7,
   "id": "bf458c79-93a0-4afc-a0fd-72659d707412",
   "metadata": {},
   "outputs": [
    {
     "data": {
      "text/plain": [
       "array(['Beans, dry', 'Cassava, fresh', 'Maize (corn)', 'Millet',\n",
       "       'Potatoes', 'Rice', 'Sorghum', 'Sweet potatoes', 'Tomatoes',\n",
       "       'Wheat'], dtype=object)"
      ]
     },
     "execution_count": 7,
     "metadata": {},
     "output_type": "execute_result"
    }
   ],
   "source": [
    "# We are removing the soya beans and yams data because they have too much missing value\n",
    "\n",
    "crop_data_quantity = crop_data_quantity[~crop_data_quantity[\"Item\"].isin([\"Soya beans\",\"Yams\"])]\n",
    "crop_data_quantity[\"Item\"].unique()"
   ]
  },
  {
   "cell_type": "code",
   "execution_count": 8,
   "id": "1610a8ab-8d19-4f39-b85e-6cdcdefdb1bb",
   "metadata": {},
   "outputs": [
    {
     "data": {
      "text/plain": [
       "Element    0\n",
       "Item       0\n",
       "Year       0\n",
       "Unit       0\n",
       "Value      0\n",
       "dtype: int64"
      ]
     },
     "execution_count": 8,
     "metadata": {},
     "output_type": "execute_result"
    }
   ],
   "source": [
    "# Verification of the non value sum\n",
    "\n",
    "crop_data_quantity.isnull().sum()"
   ]
  },
  {
   "cell_type": "code",
   "execution_count": 9,
   "id": "50b58c43-58c2-4c6b-8af9-1c178d258bea",
   "metadata": {},
   "outputs": [],
   "source": [
    "# Extraction of the area values to put in column\n",
    "area = crop_data_quantity[crop_data_quantity[\"Element\"]==\"Area harvested\"]\n",
    "area = area.rename(columns={\"Value\":\"Area(ha)\"})\n",
    "area = area.drop(columns=[\"Element\",\"Unit\"])\n",
    "area.reset_index(inplace=True, drop=True)"
   ]
  },
  {
   "cell_type": "code",
   "execution_count": 10,
   "id": "4316401b-da3d-4ac4-b76e-025cdf689ae5",
   "metadata": {},
   "outputs": [
    {
     "data": {
      "text/plain": [
       "array([1961, 1962, 1963, 1964, 1965, 1966, 1967, 1968, 1969, 1970, 1971,\n",
       "       1972, 1973, 1974, 1975, 1976, 1977, 1978, 1979, 1980, 1981, 1982,\n",
       "       1983, 1984, 1985, 1986, 1987, 1988, 1989, 1990, 1991, 1992, 1993,\n",
       "       1994, 1995, 1996, 1997, 1998, 1999, 2000, 2001, 2002, 2003, 2004,\n",
       "       2005, 2006, 2007, 2008, 2009, 2010, 2011, 2012, 2013, 2014, 2015,\n",
       "       2016, 2017, 2018, 2019, 2020, 2021, 2022, 2023])"
      ]
     },
     "execution_count": 10,
     "metadata": {},
     "output_type": "execute_result"
    }
   ],
   "source": [
    "area[\"Year\"].unique()"
   ]
  },
  {
   "cell_type": "code",
   "execution_count": 11,
   "id": "98184a56-19d7-49b3-bb1c-697d10ad038a",
   "metadata": {},
   "outputs": [
    {
     "data": {
      "text/plain": [
       "(630, 3)"
      ]
     },
     "execution_count": 11,
     "metadata": {},
     "output_type": "execute_result"
    }
   ],
   "source": [
    "area.shape"
   ]
  },
  {
   "cell_type": "code",
   "execution_count": 12,
   "id": "737197b4-40ee-42ef-b0b2-23e0e144cd78",
   "metadata": {},
   "outputs": [],
   "source": [
    "production = crop_data_quantity[crop_data_quantity[\"Element\"]==\"Production\"]\n",
    "production = production.rename(columns={\"Value\":\"Production(T)\"})\n",
    "production = production.drop(columns=[\"Element\",\"Unit\", \"Item\", \"Year\"])\n",
    "production.reset_index(inplace=True, drop=True)"
   ]
  },
  {
   "cell_type": "code",
   "execution_count": 13,
   "id": "7037bc0b-c721-4317-ba17-bb3dfb456b8c",
   "metadata": {},
   "outputs": [
    {
     "data": {
      "text/plain": [
       "Production(T)    0\n",
       "dtype: int64"
      ]
     },
     "execution_count": 13,
     "metadata": {},
     "output_type": "execute_result"
    }
   ],
   "source": [
    "production.isnull().sum()"
   ]
  },
  {
   "cell_type": "code",
   "execution_count": 14,
   "id": "46ff0f4d-eedc-49dc-a7ec-9ae174860d80",
   "metadata": {},
   "outputs": [
    {
     "data": {
      "text/plain": [
       "(630, 1)"
      ]
     },
     "execution_count": 14,
     "metadata": {},
     "output_type": "execute_result"
    }
   ],
   "source": [
    "production.shape"
   ]
  },
  {
   "cell_type": "code",
   "execution_count": 15,
   "id": "3730c28f-91de-4b38-9888-23e152023f61",
   "metadata": {},
   "outputs": [
    {
     "data": {
      "text/html": [
       "<div>\n",
       "<style scoped>\n",
       "    .dataframe tbody tr th:only-of-type {\n",
       "        vertical-align: middle;\n",
       "    }\n",
       "\n",
       "    .dataframe tbody tr th {\n",
       "        vertical-align: top;\n",
       "    }\n",
       "\n",
       "    .dataframe thead th {\n",
       "        text-align: right;\n",
       "    }\n",
       "</style>\n",
       "<table border=\"1\" class=\"dataframe\">\n",
       "  <thead>\n",
       "    <tr style=\"text-align: right;\">\n",
       "      <th></th>\n",
       "      <th>Item</th>\n",
       "      <th>Year</th>\n",
       "      <th>Area(ha)</th>\n",
       "      <th>Production(T)</th>\n",
       "    </tr>\n",
       "  </thead>\n",
       "  <tbody>\n",
       "    <tr>\n",
       "      <th>393</th>\n",
       "      <td>Sorghum</td>\n",
       "      <td>1976</td>\n",
       "      <td>209000.0</td>\n",
       "      <td>223400.0</td>\n",
       "    </tr>\n",
       "    <tr>\n",
       "      <th>426</th>\n",
       "      <td>Sorghum</td>\n",
       "      <td>2009</td>\n",
       "      <td>173172.0</td>\n",
       "      <td>99000.0</td>\n",
       "    </tr>\n",
       "    <tr>\n",
       "      <th>21</th>\n",
       "      <td>Beans, dry</td>\n",
       "      <td>1982</td>\n",
       "      <td>450000.0</td>\n",
       "      <td>280000.0</td>\n",
       "    </tr>\n",
       "  </tbody>\n",
       "</table>\n",
       "</div>"
      ],
      "text/plain": [
       "           Item  Year  Area(ha)  Production(T)\n",
       "393     Sorghum  1976  209000.0       223400.0\n",
       "426     Sorghum  2009  173172.0        99000.0\n",
       "21   Beans, dry  1982  450000.0       280000.0"
      ]
     },
     "execution_count": 15,
     "metadata": {},
     "output_type": "execute_result"
    }
   ],
   "source": [
    "# concatenation of Area harvested data with the production data\n",
    "\n",
    "crop_quantity_clean = pd.concat([area,production], axis=1)\n",
    "crop_quantity_clean.sample(3)"
   ]
  },
  {
   "cell_type": "markdown",
   "id": "968f5a41-df0d-4168-8e01-5996710982bd",
   "metadata": {},
   "source": [
    "### 3-2 Cleaning crop_data_USD"
   ]
  },
  {
   "cell_type": "code",
   "execution_count": 16,
   "id": "f78073dd-038f-4cd8-b7bc-8112cb43f919",
   "metadata": {
    "scrolled": true
   },
   "outputs": [
    {
     "data": {
      "text/html": [
       "<div>\n",
       "<style scoped>\n",
       "    .dataframe tbody tr th:only-of-type {\n",
       "        vertical-align: middle;\n",
       "    }\n",
       "\n",
       "    .dataframe tbody tr th {\n",
       "        vertical-align: top;\n",
       "    }\n",
       "\n",
       "    .dataframe thead th {\n",
       "        text-align: right;\n",
       "    }\n",
       "</style>\n",
       "<table border=\"1\" class=\"dataframe\">\n",
       "  <thead>\n",
       "    <tr style=\"text-align: right;\">\n",
       "      <th></th>\n",
       "      <th>Domain Code</th>\n",
       "      <th>Domain</th>\n",
       "      <th>Area Code (M49)</th>\n",
       "      <th>Area</th>\n",
       "      <th>Element Code</th>\n",
       "      <th>Element</th>\n",
       "      <th>Item Code (CPC)</th>\n",
       "      <th>Item</th>\n",
       "      <th>Year Code</th>\n",
       "      <th>Year</th>\n",
       "      <th>Unit</th>\n",
       "      <th>Value</th>\n",
       "      <th>Flag</th>\n",
       "      <th>Flag Description</th>\n",
       "    </tr>\n",
       "  </thead>\n",
       "  <tbody>\n",
       "    <tr>\n",
       "      <th>0</th>\n",
       "      <td>QV</td>\n",
       "      <td>Value of Agricultural Production</td>\n",
       "      <td>404</td>\n",
       "      <td>Kenya</td>\n",
       "      <td>58</td>\n",
       "      <td>Gross Production Value (constant 2014-2016 tho...</td>\n",
       "      <td>1701.0</td>\n",
       "      <td>Beans, dry</td>\n",
       "      <td>1961</td>\n",
       "      <td>1961</td>\n",
       "      <td>1000 USD</td>\n",
       "      <td>43914</td>\n",
       "      <td>E</td>\n",
       "      <td>Estimated value</td>\n",
       "    </tr>\n",
       "    <tr>\n",
       "      <th>1</th>\n",
       "      <td>QV</td>\n",
       "      <td>Value of Agricultural Production</td>\n",
       "      <td>404</td>\n",
       "      <td>Kenya</td>\n",
       "      <td>58</td>\n",
       "      <td>Gross Production Value (constant 2014-2016 tho...</td>\n",
       "      <td>1701.0</td>\n",
       "      <td>Beans, dry</td>\n",
       "      <td>1962</td>\n",
       "      <td>1962</td>\n",
       "      <td>1000 USD</td>\n",
       "      <td>43914</td>\n",
       "      <td>E</td>\n",
       "      <td>Estimated value</td>\n",
       "    </tr>\n",
       "  </tbody>\n",
       "</table>\n",
       "</div>"
      ],
      "text/plain": [
       "  Domain Code                            Domain  Area Code (M49)   Area  \\\n",
       "0          QV  Value of Agricultural Production              404  Kenya   \n",
       "1          QV  Value of Agricultural Production              404  Kenya   \n",
       "\n",
       "   Element Code                                            Element  \\\n",
       "0            58  Gross Production Value (constant 2014-2016 tho...   \n",
       "1            58  Gross Production Value (constant 2014-2016 tho...   \n",
       "\n",
       "   Item Code (CPC)        Item  Year Code  Year      Unit  Value Flag  \\\n",
       "0           1701.0  Beans, dry       1961  1961  1000 USD  43914    E   \n",
       "1           1701.0  Beans, dry       1962  1962  1000 USD  43914    E   \n",
       "\n",
       "  Flag Description  \n",
       "0  Estimated value  \n",
       "1  Estimated value  "
      ]
     },
     "execution_count": 16,
     "metadata": {},
     "output_type": "execute_result"
    }
   ],
   "source": [
    "crop_data_USD.head(2)"
   ]
  },
  {
   "cell_type": "code",
   "execution_count": 17,
   "id": "43fb17c9-8ac5-4430-8d42-79b83d9a1aa8",
   "metadata": {},
   "outputs": [],
   "source": [
    "# Unecessary column removal, \"Domain Code\",\"Area Code (M49)\",\"Area\", \"Domain\", \"Note\", \"Year Code\"\n",
    "\n",
    "crop_data_USD = crop_data_USD.drop(columns=[\"Domain Code\",\"Unit\",\"Element\",\"Area Code (M49)\",\"Area\", \"Domain\", \"Year Code\", \"Element Code\",\"Item Code (CPC)\", \"Flag\", \"Flag Description\"])"
   ]
  },
  {
   "cell_type": "code",
   "execution_count": 18,
   "id": "f2e1fab9-b1dd-42da-b99b-1a45a0a93e6d",
   "metadata": {},
   "outputs": [
    {
     "data": {
      "text/html": [
       "<div>\n",
       "<style scoped>\n",
       "    .dataframe tbody tr th:only-of-type {\n",
       "        vertical-align: middle;\n",
       "    }\n",
       "\n",
       "    .dataframe tbody tr th {\n",
       "        vertical-align: top;\n",
       "    }\n",
       "\n",
       "    .dataframe thead th {\n",
       "        text-align: right;\n",
       "    }\n",
       "</style>\n",
       "<table border=\"1\" class=\"dataframe\">\n",
       "  <thead>\n",
       "    <tr style=\"text-align: right;\">\n",
       "      <th></th>\n",
       "      <th>Item</th>\n",
       "      <th>Year</th>\n",
       "      <th>Amount(1000USD)</th>\n",
       "    </tr>\n",
       "  </thead>\n",
       "  <tbody>\n",
       "    <tr>\n",
       "      <th>0</th>\n",
       "      <td>Beans, dry</td>\n",
       "      <td>1961</td>\n",
       "      <td>43914</td>\n",
       "    </tr>\n",
       "    <tr>\n",
       "      <th>1</th>\n",
       "      <td>Beans, dry</td>\n",
       "      <td>1962</td>\n",
       "      <td>43914</td>\n",
       "    </tr>\n",
       "  </tbody>\n",
       "</table>\n",
       "</div>"
      ],
      "text/plain": [
       "         Item  Year  Amount(1000USD)\n",
       "0  Beans, dry  1961            43914\n",
       "1  Beans, dry  1962            43914"
      ]
     },
     "execution_count": 18,
     "metadata": {},
     "output_type": "execute_result"
    }
   ],
   "source": [
    "# Column renaming\n",
    "\n",
    "crop_data_USD = crop_data_USD.rename(columns={\"Value\":\"Amount(1000USD)\"})\n",
    "crop_data_USD.head(2)"
   ]
  },
  {
   "cell_type": "code",
   "execution_count": 19,
   "id": "d9d58d00-3cfc-4947-a712-d34bcbc9ec0b",
   "metadata": {},
   "outputs": [],
   "source": [
    "crop_data_USD = crop_data_USD.drop(columns=[\"Item\",\"Year\"])"
   ]
  },
  {
   "cell_type": "code",
   "execution_count": 20,
   "id": "e9285a7d-3a58-4114-a6fa-f7de53b3a902",
   "metadata": {},
   "outputs": [
    {
     "data": {
      "text/html": [
       "<div>\n",
       "<style scoped>\n",
       "    .dataframe tbody tr th:only-of-type {\n",
       "        vertical-align: middle;\n",
       "    }\n",
       "\n",
       "    .dataframe tbody tr th {\n",
       "        vertical-align: top;\n",
       "    }\n",
       "\n",
       "    .dataframe thead th {\n",
       "        text-align: right;\n",
       "    }\n",
       "</style>\n",
       "<table border=\"1\" class=\"dataframe\">\n",
       "  <thead>\n",
       "    <tr style=\"text-align: right;\">\n",
       "      <th></th>\n",
       "      <th>Item</th>\n",
       "      <th>Year</th>\n",
       "      <th>Area(ha)</th>\n",
       "      <th>Production(T)</th>\n",
       "      <th>Amount(1000USD)</th>\n",
       "    </tr>\n",
       "  </thead>\n",
       "  <tbody>\n",
       "    <tr>\n",
       "      <th>0</th>\n",
       "      <td>Beans, dry</td>\n",
       "      <td>1961</td>\n",
       "      <td>115000.0</td>\n",
       "      <td>55000.0</td>\n",
       "      <td>43914</td>\n",
       "    </tr>\n",
       "    <tr>\n",
       "      <th>1</th>\n",
       "      <td>Beans, dry</td>\n",
       "      <td>1962</td>\n",
       "      <td>115000.0</td>\n",
       "      <td>55000.0</td>\n",
       "      <td>43914</td>\n",
       "    </tr>\n",
       "  </tbody>\n",
       "</table>\n",
       "</div>"
      ],
      "text/plain": [
       "         Item  Year  Area(ha)  Production(T)  Amount(1000USD)\n",
       "0  Beans, dry  1961  115000.0        55000.0            43914\n",
       "1  Beans, dry  1962  115000.0        55000.0            43914"
      ]
     },
     "execution_count": 20,
     "metadata": {},
     "output_type": "execute_result"
    }
   ],
   "source": [
    "# Concatenation of crop quantity data with the crop value in USD data\n",
    "\n",
    "crop_data = pd.concat([crop_quantity_clean,crop_data_USD], axis=1)\n",
    "crop_data.head(2)"
   ]
  },
  {
   "cell_type": "markdown",
   "id": "b4b41b4b-64be-41b3-b2be-4ac079462cf7",
   "metadata": {},
   "source": [
    "### 3-3 Cleaning temperature change"
   ]
  },
  {
   "cell_type": "code",
   "execution_count": 21,
   "id": "3cd7e5af-8f05-48d6-8d3b-daabed6cbae8",
   "metadata": {
    "scrolled": true
   },
   "outputs": [
    {
     "data": {
      "text/html": [
       "<div>\n",
       "<style scoped>\n",
       "    .dataframe tbody tr th:only-of-type {\n",
       "        vertical-align: middle;\n",
       "    }\n",
       "\n",
       "    .dataframe tbody tr th {\n",
       "        vertical-align: top;\n",
       "    }\n",
       "\n",
       "    .dataframe thead th {\n",
       "        text-align: right;\n",
       "    }\n",
       "</style>\n",
       "<table border=\"1\" class=\"dataframe\">\n",
       "  <thead>\n",
       "    <tr style=\"text-align: right;\">\n",
       "      <th></th>\n",
       "      <th>Domain Code</th>\n",
       "      <th>Domain</th>\n",
       "      <th>Area Code (M49)</th>\n",
       "      <th>Area</th>\n",
       "      <th>Element Code</th>\n",
       "      <th>Element</th>\n",
       "      <th>Months Code</th>\n",
       "      <th>Months</th>\n",
       "      <th>Year Code</th>\n",
       "      <th>Year</th>\n",
       "      <th>Unit</th>\n",
       "      <th>Value</th>\n",
       "      <th>Flag</th>\n",
       "      <th>Flag Description</th>\n",
       "    </tr>\n",
       "  </thead>\n",
       "  <tbody>\n",
       "    <tr>\n",
       "      <th>0</th>\n",
       "      <td>ET</td>\n",
       "      <td>Temperature change on land</td>\n",
       "      <td>404</td>\n",
       "      <td>Kenya</td>\n",
       "      <td>7271</td>\n",
       "      <td>Temperature change</td>\n",
       "      <td>7001</td>\n",
       "      <td>January</td>\n",
       "      <td>1961</td>\n",
       "      <td>1961</td>\n",
       "      <td>°c</td>\n",
       "      <td>0.514</td>\n",
       "      <td>E</td>\n",
       "      <td>Estimated value</td>\n",
       "    </tr>\n",
       "    <tr>\n",
       "      <th>1</th>\n",
       "      <td>ET</td>\n",
       "      <td>Temperature change on land</td>\n",
       "      <td>404</td>\n",
       "      <td>Kenya</td>\n",
       "      <td>7271</td>\n",
       "      <td>Temperature change</td>\n",
       "      <td>7001</td>\n",
       "      <td>January</td>\n",
       "      <td>1962</td>\n",
       "      <td>1962</td>\n",
       "      <td>°c</td>\n",
       "      <td>-0.913</td>\n",
       "      <td>E</td>\n",
       "      <td>Estimated value</td>\n",
       "    </tr>\n",
       "  </tbody>\n",
       "</table>\n",
       "</div>"
      ],
      "text/plain": [
       "  Domain Code                      Domain  Area Code (M49)   Area  \\\n",
       "0          ET  Temperature change on land              404  Kenya   \n",
       "1          ET  Temperature change on land              404  Kenya   \n",
       "\n",
       "   Element Code             Element  Months Code   Months  Year Code  Year  \\\n",
       "0          7271  Temperature change         7001  January       1961  1961   \n",
       "1          7271  Temperature change         7001  January       1962  1962   \n",
       "\n",
       "  Unit  Value Flag Flag Description  \n",
       "0   °c  0.514    E  Estimated value  \n",
       "1   °c -0.913    E  Estimated value  "
      ]
     },
     "execution_count": 21,
     "metadata": {},
     "output_type": "execute_result"
    }
   ],
   "source": [
    "temperature_change.head(2)"
   ]
  },
  {
   "cell_type": "code",
   "execution_count": 22,
   "id": "1093192d-82f6-4270-bca1-ffc1b500a033",
   "metadata": {
    "scrolled": true
   },
   "outputs": [
    {
     "data": {
      "text/plain": [
       "(26, 14)"
      ]
     },
     "execution_count": 22,
     "metadata": {},
     "output_type": "execute_result"
    }
   ],
   "source": [
    "temperature_change[temperature_change[\"Year\"]==1961].shape"
   ]
  },
  {
   "cell_type": "code",
   "execution_count": 23,
   "id": "f8185519-ae8b-497f-9dfd-fc9858fdd409",
   "metadata": {},
   "outputs": [],
   "source": [
    "# Unecessary column removal, \"Domain Code\",\"Area Code (M49)\",\"Area\", \"Domain\", \"Note\", \"Year Code\"\n",
    "\n",
    "temperature_change = temperature_change.drop(columns=[\"Domain Code\",\"Domain\", \"Area Code (M49)\", \"Area\", \"Element Code\", \"Element\", \"Months Code\", \"Year Code\", \"Unit\", \"Flag\", \"Flag Description\"])"
   ]
  },
  {
   "cell_type": "code",
   "execution_count": 24,
   "id": "bfb8e81a-c331-4293-9eca-3ae12cc068dd",
   "metadata": {},
   "outputs": [
    {
     "data": {
      "text/plain": [
       "array(['January', 'February', 'March', 'April', 'May', 'June', 'July',\n",
       "       'August', 'September', 'October', 'November', 'December',\n",
       "       'Meteorological year'], dtype=object)"
      ]
     },
     "execution_count": 24,
     "metadata": {},
     "output_type": "execute_result"
    }
   ],
   "source": [
    "temperature_change[\"Months\"].unique()"
   ]
  },
  {
   "cell_type": "code",
   "execution_count": 25,
   "id": "2a8ea8dc-242f-4c94-ae65-9c646f811fa2",
   "metadata": {},
   "outputs": [],
   "source": [
    "# Extraction of the meteorological annual temperature channge data from 1961 to 2023\n",
    "\n",
    "temperature_change = temperature_change[temperature_change[\"Months\"]==\"Meteorological year\"]\n",
    "temperature_change = temperature_change.iloc[0:63]\n",
    "temperature_change.reset_index(drop=True, inplace=True)"
   ]
  },
  {
   "cell_type": "code",
   "execution_count": 26,
   "id": "8f2bb028-4ab9-4e86-bd53-82728a6d1ce1",
   "metadata": {},
   "outputs": [],
   "source": [
    "temperature_change = temperature_change.drop(columns = [\"Months\", \"Year\"])"
   ]
  },
  {
   "cell_type": "code",
   "execution_count": 27,
   "id": "c4c05de1-6e18-422f-8f9c-ae189dcb94e2",
   "metadata": {},
   "outputs": [
    {
     "data": {
      "text/plain": [
       "(630, 1)"
      ]
     },
     "execution_count": 27,
     "metadata": {},
     "output_type": "execute_result"
    }
   ],
   "source": [
    "# Multilication of the number of lines to meet the 10 crops selected\n",
    "\n",
    "temp_repeated = pd.DataFrame(np.tile(temperature_change.values, (10, 1)), columns=temperature_change.columns)\n",
    "temp_repeated.shape"
   ]
  },
  {
   "cell_type": "code",
   "execution_count": 28,
   "id": "fcad69d8-7702-44a3-98bc-b512d653f0f1",
   "metadata": {},
   "outputs": [
    {
     "data": {
      "text/html": [
       "<div>\n",
       "<style scoped>\n",
       "    .dataframe tbody tr th:only-of-type {\n",
       "        vertical-align: middle;\n",
       "    }\n",
       "\n",
       "    .dataframe tbody tr th {\n",
       "        vertical-align: top;\n",
       "    }\n",
       "\n",
       "    .dataframe thead th {\n",
       "        text-align: right;\n",
       "    }\n",
       "</style>\n",
       "<table border=\"1\" class=\"dataframe\">\n",
       "  <thead>\n",
       "    <tr style=\"text-align: right;\">\n",
       "      <th></th>\n",
       "      <th>Item</th>\n",
       "      <th>Year</th>\n",
       "      <th>Area(ha)</th>\n",
       "      <th>Production(T)</th>\n",
       "      <th>Amount(1000USD)</th>\n",
       "      <th>Value</th>\n",
       "    </tr>\n",
       "  </thead>\n",
       "  <tbody>\n",
       "    <tr>\n",
       "      <th>0</th>\n",
       "      <td>Beans, dry</td>\n",
       "      <td>1961</td>\n",
       "      <td>115000.0</td>\n",
       "      <td>55000.0</td>\n",
       "      <td>43914</td>\n",
       "      <td>0.290</td>\n",
       "    </tr>\n",
       "    <tr>\n",
       "      <th>1</th>\n",
       "      <td>Beans, dry</td>\n",
       "      <td>1962</td>\n",
       "      <td>115000.0</td>\n",
       "      <td>55000.0</td>\n",
       "      <td>43914</td>\n",
       "      <td>-0.234</td>\n",
       "    </tr>\n",
       "  </tbody>\n",
       "</table>\n",
       "</div>"
      ],
      "text/plain": [
       "         Item  Year  Area(ha)  Production(T)  Amount(1000USD)  Value\n",
       "0  Beans, dry  1961  115000.0        55000.0            43914  0.290\n",
       "1  Beans, dry  1962  115000.0        55000.0            43914 -0.234"
      ]
     },
     "execution_count": 28,
     "metadata": {},
     "output_type": "execute_result"
    }
   ],
   "source": [
    "# concatenation of the crop quantity data, USD data and temperature change data\n",
    "crop_data = pd.concat([crop_data, temp_repeated], axis=1)\n",
    "crop_data.head(2)"
   ]
  },
  {
   "cell_type": "code",
   "execution_count": 29,
   "id": "dc7ca6d8-461a-47d5-bed7-494e9b33094b",
   "metadata": {},
   "outputs": [
    {
     "data": {
      "text/html": [
       "<div>\n",
       "<style scoped>\n",
       "    .dataframe tbody tr th:only-of-type {\n",
       "        vertical-align: middle;\n",
       "    }\n",
       "\n",
       "    .dataframe tbody tr th {\n",
       "        vertical-align: top;\n",
       "    }\n",
       "\n",
       "    .dataframe thead th {\n",
       "        text-align: right;\n",
       "    }\n",
       "</style>\n",
       "<table border=\"1\" class=\"dataframe\">\n",
       "  <thead>\n",
       "    <tr style=\"text-align: right;\">\n",
       "      <th></th>\n",
       "      <th>Item</th>\n",
       "      <th>Year</th>\n",
       "      <th>Area(ha)</th>\n",
       "      <th>Production(T)</th>\n",
       "      <th>Amount(1000USD)</th>\n",
       "      <th>Temp_change(C)</th>\n",
       "    </tr>\n",
       "  </thead>\n",
       "  <tbody>\n",
       "    <tr>\n",
       "      <th>0</th>\n",
       "      <td>Beans, dry</td>\n",
       "      <td>1961</td>\n",
       "      <td>115000.0</td>\n",
       "      <td>55000.0</td>\n",
       "      <td>43914</td>\n",
       "      <td>0.290</td>\n",
       "    </tr>\n",
       "    <tr>\n",
       "      <th>1</th>\n",
       "      <td>Beans, dry</td>\n",
       "      <td>1962</td>\n",
       "      <td>115000.0</td>\n",
       "      <td>55000.0</td>\n",
       "      <td>43914</td>\n",
       "      <td>-0.234</td>\n",
       "    </tr>\n",
       "  </tbody>\n",
       "</table>\n",
       "</div>"
      ],
      "text/plain": [
       "         Item  Year  Area(ha)  Production(T)  Amount(1000USD)  Temp_change(C)\n",
       "0  Beans, dry  1961  115000.0        55000.0            43914           0.290\n",
       "1  Beans, dry  1962  115000.0        55000.0            43914          -0.234"
      ]
     },
     "execution_count": 29,
     "metadata": {},
     "output_type": "execute_result"
    }
   ],
   "source": [
    "# Renaming the temperature column\n",
    "crop_data = crop_data.rename(columns={\"Value\":\"Temp_change(C)\"})\n",
    "crop_data.head(2)"
   ]
  },
  {
   "cell_type": "code",
   "execution_count": null,
   "id": "3fe37b17-db1d-4c3b-9f01-e5375f8b4033",
   "metadata": {},
   "outputs": [],
   "source": []
  },
  {
   "cell_type": "markdown",
   "id": "ac8ef3c8-4cb2-4fbb-9e3a-5731c3a7ddbf",
   "metadata": {},
   "source": [
    "### 3-4 Cleaning meteo_data"
   ]
  },
  {
   "cell_type": "code",
   "execution_count": 30,
   "id": "3649ee42-58d8-4659-afa9-ebd8d344dfad",
   "metadata": {},
   "outputs": [
    {
     "data": {
      "text/html": [
       "<div>\n",
       "<style scoped>\n",
       "    .dataframe tbody tr th:only-of-type {\n",
       "        vertical-align: middle;\n",
       "    }\n",
       "\n",
       "    .dataframe tbody tr th {\n",
       "        vertical-align: top;\n",
       "    }\n",
       "\n",
       "    .dataframe thead th {\n",
       "        text-align: right;\n",
       "    }\n",
       "</style>\n",
       "<table border=\"1\" class=\"dataframe\">\n",
       "  <thead>\n",
       "    <tr style=\"text-align: right;\">\n",
       "      <th></th>\n",
       "      <th>latitude</th>\n",
       "      <th>longitude</th>\n",
       "      <th>elevation</th>\n",
       "      <th>utc_offset_seconds</th>\n",
       "      <th>timezone</th>\n",
       "      <th>timezone_abbreviation</th>\n",
       "    </tr>\n",
       "  </thead>\n",
       "  <tbody>\n",
       "    <tr>\n",
       "      <th>0</th>\n",
       "      <td>-1.3005272</td>\n",
       "      <td>36.824646</td>\n",
       "      <td>1677.0</td>\n",
       "      <td>10800</td>\n",
       "      <td>Africa/Cairo</td>\n",
       "      <td>GMT+3</td>\n",
       "    </tr>\n",
       "    <tr>\n",
       "      <th>1</th>\n",
       "      <td>time</td>\n",
       "      <td>temperature_2m_mean (°C)</td>\n",
       "      <td>temperature_2m_max (°C)</td>\n",
       "      <td>temperature_2m_min (°C)</td>\n",
       "      <td>rain_sum (mm)</td>\n",
       "      <td>weather_code (wmo code)</td>\n",
       "    </tr>\n",
       "    <tr>\n",
       "      <th>2</th>\n",
       "      <td>2000-01-01</td>\n",
       "      <td>18.8</td>\n",
       "      <td>24.9</td>\n",
       "      <td>13.9</td>\n",
       "      <td>0.20</td>\n",
       "      <td>51</td>\n",
       "    </tr>\n",
       "    <tr>\n",
       "      <th>3</th>\n",
       "      <td>2000-01-02</td>\n",
       "      <td>18.7</td>\n",
       "      <td>23.9</td>\n",
       "      <td>14.2</td>\n",
       "      <td>0.00</td>\n",
       "      <td>3</td>\n",
       "    </tr>\n",
       "    <tr>\n",
       "      <th>4</th>\n",
       "      <td>2000-01-03</td>\n",
       "      <td>18.7</td>\n",
       "      <td>24.2</td>\n",
       "      <td>15.1</td>\n",
       "      <td>0.00</td>\n",
       "      <td>3</td>\n",
       "    </tr>\n",
       "  </tbody>\n",
       "</table>\n",
       "</div>"
      ],
      "text/plain": [
       "     latitude                 longitude                elevation  \\\n",
       "0  -1.3005272                 36.824646                   1677.0   \n",
       "1        time  temperature_2m_mean (°C)  temperature_2m_max (°C)   \n",
       "2  2000-01-01                      18.8                     24.9   \n",
       "3  2000-01-02                      18.7                     23.9   \n",
       "4  2000-01-03                      18.7                     24.2   \n",
       "\n",
       "        utc_offset_seconds       timezone    timezone_abbreviation  \n",
       "0                    10800   Africa/Cairo                    GMT+3  \n",
       "1  temperature_2m_min (°C)  rain_sum (mm)  weather_code (wmo code)  \n",
       "2                     13.9           0.20                       51  \n",
       "3                     14.2           0.00                        3  \n",
       "4                     15.1           0.00                        3  "
      ]
     },
     "execution_count": 30,
     "metadata": {},
     "output_type": "execute_result"
    }
   ],
   "source": [
    "meteo_data.head()"
   ]
  },
  {
   "cell_type": "code",
   "execution_count": 31,
   "id": "4dbb17f6-b3a0-46b1-b103-e625116a07b7",
   "metadata": {
    "scrolled": true
   },
   "outputs": [
    {
     "data": {
      "text/html": [
       "<div>\n",
       "<style scoped>\n",
       "    .dataframe tbody tr th:only-of-type {\n",
       "        vertical-align: middle;\n",
       "    }\n",
       "\n",
       "    .dataframe tbody tr th {\n",
       "        vertical-align: top;\n",
       "    }\n",
       "\n",
       "    .dataframe thead th {\n",
       "        text-align: right;\n",
       "    }\n",
       "</style>\n",
       "<table border=\"1\" class=\"dataframe\">\n",
       "  <thead>\n",
       "    <tr style=\"text-align: right;\">\n",
       "      <th></th>\n",
       "      <th>latitude</th>\n",
       "      <th>longitude</th>\n",
       "      <th>timezone</th>\n",
       "    </tr>\n",
       "  </thead>\n",
       "  <tbody>\n",
       "    <tr>\n",
       "      <th>0</th>\n",
       "      <td>-1.3005272</td>\n",
       "      <td>36.824646</td>\n",
       "      <td>Africa/Cairo</td>\n",
       "    </tr>\n",
       "    <tr>\n",
       "      <th>1</th>\n",
       "      <td>time</td>\n",
       "      <td>temperature_2m_mean (°C)</td>\n",
       "      <td>rain_sum (mm)</td>\n",
       "    </tr>\n",
       "  </tbody>\n",
       "</table>\n",
       "</div>"
      ],
      "text/plain": [
       "     latitude                 longitude       timezone\n",
       "0  -1.3005272                 36.824646   Africa/Cairo\n",
       "1        time  temperature_2m_mean (°C)  rain_sum (mm)"
      ]
     },
     "execution_count": 31,
     "metadata": {},
     "output_type": "execute_result"
    }
   ],
   "source": [
    "# Unnecessary columns removal\n",
    "\n",
    "meteo_data = meteo_data.drop(columns=[\"elevation\",\"utc_offset_seconds\",\"timezone_abbreviation\"])\n",
    "meteo_data.head(2)"
   ]
  },
  {
   "cell_type": "code",
   "execution_count": 32,
   "id": "d0490818-a3da-439b-bc08-daff4053aa00",
   "metadata": {},
   "outputs": [],
   "source": [
    "# Columns renaming\n",
    "\n",
    "meteo_data = meteo_data.rename(columns={\"latitude\":\"date\",\"longitude\":\"temperature(C)\", \"timezone\":\"rain(mm)\"})"
   ]
  },
  {
   "cell_type": "code",
   "execution_count": 33,
   "id": "59c2fcb5-e2b9-41ff-908d-0d05e6bfc151",
   "metadata": {},
   "outputs": [
    {
     "name": "stdout",
     "output_type": "stream",
     "text": [
      "<class 'pandas.core.frame.DataFrame'>\n",
      "RangeIndex: 9340 entries, 0 to 9339\n",
      "Data columns (total 3 columns):\n",
      " #   Column          Non-Null Count  Dtype \n",
      "---  ------          --------------  ----- \n",
      " 0   date            9340 non-null   object\n",
      " 1   temperature(C)  9340 non-null   object\n",
      " 2   rain(mm)        9340 non-null   object\n",
      "dtypes: object(3)\n",
      "memory usage: 219.0+ KB\n"
     ]
    }
   ],
   "source": [
    "# Unecessary rows removal\n",
    "\n",
    "meteo_data = meteo_data.drop([0, 1]).reset_index(drop=True)\n",
    "meteo_data.info()"
   ]
  },
  {
   "cell_type": "code",
   "execution_count": 34,
   "id": "6d0ff07e-0563-405a-9e2d-c56a122c190f",
   "metadata": {},
   "outputs": [],
   "source": [
    "# conversion of the type of the data, temperature and rain data columns because they are initially object type\n",
    "\n",
    "meteo_data[\"date\"]=pd.to_datetime(meteo_data[\"date\"])\n",
    "meteo_data[\"temperature(C)\"] = meteo_data[\"temperature(C)\"].astype(float)\n",
    "meteo_data[\"rain(mm)\"] = meteo_data[\"rain(mm)\"].astype(float)"
   ]
  },
  {
   "cell_type": "code",
   "execution_count": 35,
   "id": "9fb057ce-7ee5-4b79-8836-e5dd3d9fa5db",
   "metadata": {},
   "outputs": [
    {
     "name": "stdout",
     "output_type": "stream",
     "text": [
      "<class 'pandas.core.frame.DataFrame'>\n",
      "RangeIndex: 9340 entries, 0 to 9339\n",
      "Data columns (total 3 columns):\n",
      " #   Column          Non-Null Count  Dtype         \n",
      "---  ------          --------------  -----         \n",
      " 0   date            9340 non-null   datetime64[ns]\n",
      " 1   temperature(C)  9340 non-null   float64       \n",
      " 2   rain(mm)        9340 non-null   float64       \n",
      "dtypes: datetime64[ns](1), float64(2)\n",
      "memory usage: 219.0 KB\n"
     ]
    }
   ],
   "source": [
    "meteo_data.info()"
   ]
  },
  {
   "cell_type": "code",
   "execution_count": 36,
   "id": "bc743762-9e7b-444c-84e5-cdf85b3dceaa",
   "metadata": {},
   "outputs": [],
   "source": [
    "# Extraction of the year in the year column\n",
    "\n",
    "meteo_data['year'] = meteo_data['date'].dt.year"
   ]
  },
  {
   "cell_type": "code",
   "execution_count": 37,
   "id": "e16d597d-651c-4f14-b872-ff8b2fb7d659",
   "metadata": {},
   "outputs": [
    {
     "data": {
      "text/html": [
       "<div>\n",
       "<style scoped>\n",
       "    .dataframe tbody tr th:only-of-type {\n",
       "        vertical-align: middle;\n",
       "    }\n",
       "\n",
       "    .dataframe tbody tr th {\n",
       "        vertical-align: top;\n",
       "    }\n",
       "\n",
       "    .dataframe thead th {\n",
       "        text-align: right;\n",
       "    }\n",
       "</style>\n",
       "<table border=\"1\" class=\"dataframe\">\n",
       "  <thead>\n",
       "    <tr style=\"text-align: right;\">\n",
       "      <th></th>\n",
       "      <th>year</th>\n",
       "      <th>temperature(C)</th>\n",
       "    </tr>\n",
       "  </thead>\n",
       "  <tbody>\n",
       "    <tr>\n",
       "      <th>0</th>\n",
       "      <td>2000</td>\n",
       "      <td>18.778689</td>\n",
       "    </tr>\n",
       "    <tr>\n",
       "      <th>1</th>\n",
       "      <td>2001</td>\n",
       "      <td>18.400548</td>\n",
       "    </tr>\n",
       "  </tbody>\n",
       "</table>\n",
       "</div>"
      ],
      "text/plain": [
       "   year  temperature(C)\n",
       "0  2000       18.778689\n",
       "1  2001       18.400548"
      ]
     },
     "execution_count": 37,
     "metadata": {},
     "output_type": "execute_result"
    }
   ],
   "source": [
    "# Grouping the data to have the mean of temperature per year\n",
    "\n",
    "mean_temp = meteo_data.groupby('year')['temperature(C)'].mean().reset_index()\n",
    "mean_temp.head(2)"
   ]
  },
  {
   "cell_type": "code",
   "execution_count": 38,
   "id": "a21d6039-8b42-430d-83a0-ae9897294d9a",
   "metadata": {},
   "outputs": [],
   "source": [
    "mean_temp = mean_temp.drop(columns=\"year\")"
   ]
  },
  {
   "cell_type": "code",
   "execution_count": 39,
   "id": "6bb4387e-ed3d-4fbd-b6d4-55be5d8a861d",
   "metadata": {},
   "outputs": [
    {
     "data": {
      "text/html": [
       "<div>\n",
       "<style scoped>\n",
       "    .dataframe tbody tr th:only-of-type {\n",
       "        vertical-align: middle;\n",
       "    }\n",
       "\n",
       "    .dataframe tbody tr th {\n",
       "        vertical-align: top;\n",
       "    }\n",
       "\n",
       "    .dataframe thead th {\n",
       "        text-align: right;\n",
       "    }\n",
       "</style>\n",
       "<table border=\"1\" class=\"dataframe\">\n",
       "  <thead>\n",
       "    <tr style=\"text-align: right;\">\n",
       "      <th></th>\n",
       "      <th>year</th>\n",
       "      <th>rain(mm)</th>\n",
       "    </tr>\n",
       "  </thead>\n",
       "  <tbody>\n",
       "    <tr>\n",
       "      <th>0</th>\n",
       "      <td>2000</td>\n",
       "      <td>236.2</td>\n",
       "    </tr>\n",
       "    <tr>\n",
       "      <th>1</th>\n",
       "      <td>2001</td>\n",
       "      <td>630.8</td>\n",
       "    </tr>\n",
       "  </tbody>\n",
       "</table>\n",
       "</div>"
      ],
      "text/plain": [
       "   year  rain(mm)\n",
       "0  2000     236.2\n",
       "1  2001     630.8"
      ]
     },
     "execution_count": 39,
     "metadata": {},
     "output_type": "execute_result"
    }
   ],
   "source": [
    "# Grouping data to have the sum of all the rain per year\n",
    "\n",
    "sum_rain = meteo_data.groupby('year')['rain(mm)'].sum().reset_index()\n",
    "sum_rain.head(2)"
   ]
  },
  {
   "cell_type": "code",
   "execution_count": 40,
   "id": "c5e07699-0807-4bb7-9287-5ad1760eae37",
   "metadata": {},
   "outputs": [
    {
     "data": {
      "text/html": [
       "<div>\n",
       "<style scoped>\n",
       "    .dataframe tbody tr th:only-of-type {\n",
       "        vertical-align: middle;\n",
       "    }\n",
       "\n",
       "    .dataframe tbody tr th {\n",
       "        vertical-align: top;\n",
       "    }\n",
       "\n",
       "    .dataframe thead th {\n",
       "        text-align: right;\n",
       "    }\n",
       "</style>\n",
       "<table border=\"1\" class=\"dataframe\">\n",
       "  <thead>\n",
       "    <tr style=\"text-align: right;\">\n",
       "      <th></th>\n",
       "      <th>year</th>\n",
       "      <th>rain(mm)</th>\n",
       "      <th>temperature(C)</th>\n",
       "    </tr>\n",
       "  </thead>\n",
       "  <tbody>\n",
       "    <tr>\n",
       "      <th>0</th>\n",
       "      <td>2000</td>\n",
       "      <td>236.2</td>\n",
       "      <td>18.778689</td>\n",
       "    </tr>\n",
       "    <tr>\n",
       "      <th>1</th>\n",
       "      <td>2001</td>\n",
       "      <td>630.8</td>\n",
       "      <td>18.400548</td>\n",
       "    </tr>\n",
       "  </tbody>\n",
       "</table>\n",
       "</div>"
      ],
      "text/plain": [
       "   year  rain(mm)  temperature(C)\n",
       "0  2000     236.2       18.778689\n",
       "1  2001     630.8       18.400548"
      ]
     },
     "execution_count": 40,
     "metadata": {},
     "output_type": "execute_result"
    }
   ],
   "source": [
    "# concatenation of the temperature data and rain data in meteo data\n",
    "\n",
    "meteo = pd.concat([sum_rain,mean_temp], axis=1)\n",
    "meteo.head(2)"
   ]
  },
  {
   "cell_type": "code",
   "execution_count": 41,
   "id": "b10bc18a-92b9-4d49-8fdd-5d586a7f24a7",
   "metadata": {},
   "outputs": [],
   "source": [
    "# crop data combination with meteo data\n",
    "# extrapolation of temperature data because the meteo data is from 2000 to 2025 and the crop data is from 1961 to 2024"
   ]
  },
  {
   "cell_type": "code",
   "execution_count": 42,
   "id": "b9393220-c181-4cea-b36b-46bc4c707119",
   "metadata": {},
   "outputs": [],
   "source": [
    "# filter the data from 2000 to 2023\n",
    "\n",
    "meteo = meteo[meteo['year'].between(2000, 2023)]"
   ]
  },
  {
   "cell_type": "code",
   "execution_count": 43,
   "id": "f765484c-4d98-4cdc-8c2a-ee74e4175e15",
   "metadata": {},
   "outputs": [],
   "source": [
    "# Means calculation of data from 2000 to 2023\n",
    "\n",
    "temperature_mean = meteo[\"temperature(C)\"].mean()\n",
    "rain_mean = meteo[\"rain(mm)\"].mean()"
   ]
  },
  {
   "cell_type": "code",
   "execution_count": 44,
   "id": "f593c0bd-40d1-486f-84b8-33f2ea6efddd",
   "metadata": {},
   "outputs": [],
   "source": [
    "# Creating a dataframe of missing years\n",
    "missing_year = pd.DataFrame({\"year\": range(1961,2000)})\n",
    "\n",
    "#filling the data with the means calculated\n",
    "missing_year[\"rain(mm)\"] = rain_mean\n",
    "missing_year [\"temperature(C)\"] = temperature_mean"
   ]
  },
  {
   "cell_type": "code",
   "execution_count": 45,
   "id": "b068cec2-b0b6-4bf0-8e01-14188e5a21bb",
   "metadata": {},
   "outputs": [
    {
     "data": {
      "text/html": [
       "<div>\n",
       "<style scoped>\n",
       "    .dataframe tbody tr th:only-of-type {\n",
       "        vertical-align: middle;\n",
       "    }\n",
       "\n",
       "    .dataframe tbody tr th {\n",
       "        vertical-align: top;\n",
       "    }\n",
       "\n",
       "    .dataframe thead th {\n",
       "        text-align: right;\n",
       "    }\n",
       "</style>\n",
       "<table border=\"1\" class=\"dataframe\">\n",
       "  <thead>\n",
       "    <tr style=\"text-align: right;\">\n",
       "      <th></th>\n",
       "      <th>year</th>\n",
       "      <th>rain(mm)</th>\n",
       "      <th>temperature(C)</th>\n",
       "    </tr>\n",
       "  </thead>\n",
       "  <tbody>\n",
       "    <tr>\n",
       "      <th>0</th>\n",
       "      <td>1961</td>\n",
       "      <td>675.058333</td>\n",
       "      <td>18.790179</td>\n",
       "    </tr>\n",
       "    <tr>\n",
       "      <th>1</th>\n",
       "      <td>1962</td>\n",
       "      <td>675.058333</td>\n",
       "      <td>18.790179</td>\n",
       "    </tr>\n",
       "    <tr>\n",
       "      <th>2</th>\n",
       "      <td>1963</td>\n",
       "      <td>675.058333</td>\n",
       "      <td>18.790179</td>\n",
       "    </tr>\n",
       "  </tbody>\n",
       "</table>\n",
       "</div>"
      ],
      "text/plain": [
       "   year    rain(mm)  temperature(C)\n",
       "0  1961  675.058333       18.790179\n",
       "1  1962  675.058333       18.790179\n",
       "2  1963  675.058333       18.790179"
      ]
     },
     "execution_count": 45,
     "metadata": {},
     "output_type": "execute_result"
    }
   ],
   "source": [
    "#combining the missing years with meteo data\n",
    "\n",
    "meteo_extended = pd.concat([missing_year, meteo], ignore_index=True)\n",
    "meteo_extended.head(3)"
   ]
  },
  {
   "cell_type": "code",
   "execution_count": 46,
   "id": "f7c8a5c1-e7f2-455f-9584-b1854be841a1",
   "metadata": {},
   "outputs": [],
   "source": [
    "# multiplication of the number of line to fit all the 10 crops\n",
    "\n",
    "meteo_extended = pd.DataFrame(np.tile(meteo_extended,(10,1)), columns = meteo_extended.columns)"
   ]
  },
  {
   "cell_type": "code",
   "execution_count": 47,
   "id": "bf07a917-646f-4f5e-8cde-5b3a9934ee81",
   "metadata": {},
   "outputs": [],
   "source": [
    "#Removing the year column to ease the concatenation with crop data\n",
    "\n",
    "meteo_extended = meteo_extended.drop(columns = \"year\")"
   ]
  },
  {
   "cell_type": "code",
   "execution_count": 48,
   "id": "b72d3a6c-4389-4c40-8909-48fd5fc295a7",
   "metadata": {},
   "outputs": [],
   "source": [
    "# Concatenation with the crop data\n",
    "\n",
    "clean_data_ex = pd.concat([crop_data, meteo_extended], axis=1)"
   ]
  },
  {
   "cell_type": "code",
   "execution_count": 49,
   "id": "029da88a-931f-4ed9-b8d8-a4fd179c7fc3",
   "metadata": {},
   "outputs": [
    {
     "data": {
      "text/html": [
       "<div>\n",
       "<style scoped>\n",
       "    .dataframe tbody tr th:only-of-type {\n",
       "        vertical-align: middle;\n",
       "    }\n",
       "\n",
       "    .dataframe tbody tr th {\n",
       "        vertical-align: top;\n",
       "    }\n",
       "\n",
       "    .dataframe thead th {\n",
       "        text-align: right;\n",
       "    }\n",
       "</style>\n",
       "<table border=\"1\" class=\"dataframe\">\n",
       "  <thead>\n",
       "    <tr style=\"text-align: right;\">\n",
       "      <th></th>\n",
       "      <th>Item</th>\n",
       "      <th>Year</th>\n",
       "      <th>Area(ha)</th>\n",
       "      <th>Production(T)</th>\n",
       "      <th>Amount(1000USD)</th>\n",
       "      <th>Temp_change(C)</th>\n",
       "      <th>rain(mm)</th>\n",
       "      <th>temperature(C)</th>\n",
       "    </tr>\n",
       "  </thead>\n",
       "  <tbody>\n",
       "    <tr>\n",
       "      <th>0</th>\n",
       "      <td>Beans, dry</td>\n",
       "      <td>1961</td>\n",
       "      <td>115000.0</td>\n",
       "      <td>55000.0</td>\n",
       "      <td>43914</td>\n",
       "      <td>0.290</td>\n",
       "      <td>675.058333</td>\n",
       "      <td>18.790179</td>\n",
       "    </tr>\n",
       "    <tr>\n",
       "      <th>1</th>\n",
       "      <td>Beans, dry</td>\n",
       "      <td>1962</td>\n",
       "      <td>115000.0</td>\n",
       "      <td>55000.0</td>\n",
       "      <td>43914</td>\n",
       "      <td>-0.234</td>\n",
       "      <td>675.058333</td>\n",
       "      <td>18.790179</td>\n",
       "    </tr>\n",
       "  </tbody>\n",
       "</table>\n",
       "</div>"
      ],
      "text/plain": [
       "         Item  Year  Area(ha)  Production(T)  Amount(1000USD)  Temp_change(C)  \\\n",
       "0  Beans, dry  1961  115000.0        55000.0            43914           0.290   \n",
       "1  Beans, dry  1962  115000.0        55000.0            43914          -0.234   \n",
       "\n",
       "     rain(mm)  temperature(C)  \n",
       "0  675.058333       18.790179  \n",
       "1  675.058333       18.790179  "
      ]
     },
     "execution_count": 49,
     "metadata": {},
     "output_type": "execute_result"
    }
   ],
   "source": [
    "# Data containing the extrapolated data\n",
    "clean_data_ex.head(2)"
   ]
  },
  {
   "cell_type": "code",
   "execution_count": 50,
   "id": "9e974133-515e-49d2-afca-aac804642e05",
   "metadata": {},
   "outputs": [],
   "source": [
    "# Data that contain real data measured from 2000 to 2023\n",
    "\n",
    "clean_data = clean_data_ex[clean_data_ex[\"Year\"]>=2000]"
   ]
  },
  {
   "cell_type": "code",
   "execution_count": 52,
   "id": "7d24f7c7-716f-4f7a-ba05-4077be3dd8e0",
   "metadata": {},
   "outputs": [],
   "source": [
    "clean_data.reset_index(drop=True, inplace=True)"
   ]
  },
  {
   "cell_type": "code",
   "execution_count": 54,
   "id": "61d0d575-d5fa-4fe7-8d6c-0b2dbf795580",
   "metadata": {},
   "outputs": [
    {
     "data": {
      "text/html": [
       "<div>\n",
       "<style scoped>\n",
       "    .dataframe tbody tr th:only-of-type {\n",
       "        vertical-align: middle;\n",
       "    }\n",
       "\n",
       "    .dataframe tbody tr th {\n",
       "        vertical-align: top;\n",
       "    }\n",
       "\n",
       "    .dataframe thead th {\n",
       "        text-align: right;\n",
       "    }\n",
       "</style>\n",
       "<table border=\"1\" class=\"dataframe\">\n",
       "  <thead>\n",
       "    <tr style=\"text-align: right;\">\n",
       "      <th></th>\n",
       "      <th>Item</th>\n",
       "      <th>Year</th>\n",
       "      <th>Area(ha)</th>\n",
       "      <th>Production(T)</th>\n",
       "      <th>Amount(1000USD)</th>\n",
       "      <th>Temp_change(C)</th>\n",
       "      <th>rain(mm)</th>\n",
       "      <th>temperature(C)</th>\n",
       "    </tr>\n",
       "  </thead>\n",
       "  <tbody>\n",
       "    <tr>\n",
       "      <th>0</th>\n",
       "      <td>Beans, dry</td>\n",
       "      <td>2000</td>\n",
       "      <td>770797.0</td>\n",
       "      <td>331426.0</td>\n",
       "      <td>264621</td>\n",
       "      <td>0.553</td>\n",
       "      <td>236.2</td>\n",
       "      <td>18.778689</td>\n",
       "    </tr>\n",
       "    <tr>\n",
       "      <th>1</th>\n",
       "      <td>Beans, dry</td>\n",
       "      <td>2001</td>\n",
       "      <td>870357.0</td>\n",
       "      <td>331426.0</td>\n",
       "      <td>264621</td>\n",
       "      <td>0.603</td>\n",
       "      <td>630.8</td>\n",
       "      <td>18.400548</td>\n",
       "    </tr>\n",
       "  </tbody>\n",
       "</table>\n",
       "</div>"
      ],
      "text/plain": [
       "         Item  Year  Area(ha)  Production(T)  Amount(1000USD)  Temp_change(C)  \\\n",
       "0  Beans, dry  2000  770797.0       331426.0           264621           0.553   \n",
       "1  Beans, dry  2001  870357.0       331426.0           264621           0.603   \n",
       "\n",
       "   rain(mm)  temperature(C)  \n",
       "0     236.2       18.778689  \n",
       "1     630.8       18.400548  "
      ]
     },
     "execution_count": 54,
     "metadata": {},
     "output_type": "execute_result"
    }
   ],
   "source": [
    "clean_data.head(2)"
   ]
  },
  {
   "cell_type": "code",
   "execution_count": null,
   "id": "bc74888f-d1d3-4aea-bb56-5be2fbae3ce2",
   "metadata": {},
   "outputs": [],
   "source": [
    "# Data cleaning ended\n",
    "# We have two types of datasets\n",
    "# 1- clean_data containing the real values measured for both crop and meteo data covering 2000 to 2023\n",
    "# 2- clean_data_ex containing the data of the meteo extrapolated covering 1961 to 2023\n",
    "\n",
    "# The idea is to do an analysis of both datasets and see the difference in the results"
   ]
  },
  {
   "cell_type": "code",
   "execution_count": 56,
   "id": "69ea4553-0f92-428e-82c4-2895b32da6d6",
   "metadata": {},
   "outputs": [],
   "source": [
    "# Saving the clean data to the memory\n",
    "clean_data.to_csv(\"data/Clean_data_for_analysis.csv\", index=False)\n",
    "clean_data_ex.to_csv(\"data/Clean_data_extrapolated_for_analysis.csv\", index=False) "
   ]
  },
  {
   "cell_type": "markdown",
   "id": "d5b16122-b696-4341-8093-a4907fd37b3e",
   "metadata": {},
   "source": [
    "## 4- Data anlysis"
   ]
  },
  {
   "cell_type": "code",
   "execution_count": 58,
   "id": "d9bf8b7a-6f01-4b05-819e-6e4f3269c83a",
   "metadata": {},
   "outputs": [
    {
     "data": {
      "text/plain": [
       "array(['Beans, dry', 'Cassava, fresh', 'Maize (corn)', 'Millet',\n",
       "       'Potatoes', 'Rice', 'Sorghum', 'Sweet potatoes', 'Tomatoes',\n",
       "       'Wheat'], dtype=object)"
      ]
     },
     "execution_count": 58,
     "metadata": {},
     "output_type": "execute_result"
    }
   ],
   "source": [
    "clean_data[\"Item\"].unique()"
   ]
  },
  {
   "cell_type": "code",
   "execution_count": null,
   "id": "423d6260-a8fd-4c4d-8322-c64ac28448bf",
   "metadata": {},
   "outputs": [],
   "source": []
  },
  {
   "cell_type": "code",
   "execution_count": null,
   "id": "84b02bf5-e6a8-4370-b326-897de0d9c0ac",
   "metadata": {},
   "outputs": [],
   "source": []
  },
  {
   "cell_type": "code",
   "execution_count": null,
   "id": "36a8be0b-3b93-4e65-b958-17aa2f8b26fd",
   "metadata": {},
   "outputs": [],
   "source": []
  },
  {
   "cell_type": "markdown",
   "id": "bf9159e0-818a-488d-90d8-6a41ad499496",
   "metadata": {},
   "source": [
    "## 5- Modeling"
   ]
  },
  {
   "cell_type": "markdown",
   "id": "7366b5f9-c92e-40a6-971d-488fd70ed733",
   "metadata": {},
   "source": []
  },
  {
   "cell_type": "markdown",
   "id": "f47fa6b9-2a5e-4a3e-8ba8-358776f74b61",
   "metadata": {},
   "source": [
    "## 6- Prediction"
   ]
  },
  {
   "cell_type": "markdown",
   "id": "6af26310-e1d2-4417-ba19-612acdd51c94",
   "metadata": {},
   "source": []
  },
  {
   "cell_type": "markdown",
   "id": "a94ed636-3821-4d1b-bf2f-852f32490b9f",
   "metadata": {},
   "source": [
    "## 7- Conclusion"
   ]
  },
  {
   "cell_type": "code",
   "execution_count": null,
   "id": "044de4f5-d45b-4476-9d7a-dd846275d6e9",
   "metadata": {},
   "outputs": [],
   "source": []
  }
 ],
 "metadata": {
  "kernelspec": {
   "display_name": "Python 3 (ipykernel)",
   "language": "python",
   "name": "python3"
  },
  "language_info": {
   "codemirror_mode": {
    "name": "ipython",
    "version": 3
   },
   "file_extension": ".py",
   "mimetype": "text/x-python",
   "name": "python",
   "nbconvert_exporter": "python",
   "pygments_lexer": "ipython3",
   "version": "3.10.18"
  }
 },
 "nbformat": 4,
 "nbformat_minor": 5
}
